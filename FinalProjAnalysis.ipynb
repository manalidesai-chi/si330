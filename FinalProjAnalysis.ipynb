{
 "cells": [
  {
   "cell_type": "code",
   "execution_count": 157,
   "metadata": {
    "collapsed": true
   },
   "outputs": [],
   "source": [
    "\n",
    "import pandas as pd\n",
    "import numpy as np\n",
    "import json\n",
    "import requests\n",
    "import sys\n",
    "import urllib\n",
    "\n",
    "import csv\n",
    "import re\n",
    "import ast\n",
    "\n",
    "import matplotlib.pyplot as plt\n",
    "import numpy as np \n",
    "import seaborn as sns"
   ]
  },
  {
   "cell_type": "code",
   "execution_count": 158,
   "metadata": {
    "collapsed": true
   },
   "outputs": [],
   "source": [
    "#READ FAILING BUSINESS FILES\n",
    "food_inspections_orig = pd.read_csv('food_inspections.csv')\n",
    "\n",
    "fail_biz1 = pd.read_csv('FailBizFile1.csv')\n",
    "fail_biz2 = pd.read_csv('FailBizFile2.csv')\n",
    "fail_biz3 = pd.read_csv('FailBizFile3.csv')\n",
    "fail_biz4 = pd.read_csv('FailBizFile4.csv')\n",
    "fail_biz5 = pd.read_csv('FailBizFile5.csv')\n"
   ]
  },
  {
   "cell_type": "code",
   "execution_count": 159,
   "metadata": {},
   "outputs": [],
   "source": [
    "#MERGE INTO ONE DATAFRAME\n",
    "\n",
    "businesses_orig = fail_biz1.append(fail_biz2, ignore_index=True)\n",
    "businesses_orig = businesses_orig.append(fail_biz3, ignore_index=True)\n",
    "businesses_orig = businesses_orig.append(fail_biz4, ignore_index=True)\n",
    "businesses_orig = businesses_orig.append(fail_biz5, ignore_index=True)\n"
   ]
  },
  {
   "cell_type": "code",
   "execution_count": 165,
   "metadata": {},
   "outputs": [],
   "source": [
    "#CLEAN FAILED BUISNESSES DATA FRAME\n",
    "\n",
    "    #remove unesseary columns \n",
    "businesses = businesses_orig.drop(columns = ['display_phone', 'distance', 'image_url','phone','transactions','url'])\n",
    "\n",
    "    #remove businesses with less then 5 reviews -i think any less is not enough to accurately rate the place\n",
    "businesses = businesses[businesses['review_count'] >= 5]\n",
    "\n",
    "    #ast.literal_eval turns string \"{...}\" into dict {...} -weird effect of reading from csv to pandas \n",
    "businesses['categories'] = businesses['categories'].map(lambda x: ast.literal_eval(x) )\n",
    "businesses['coordinates'] = businesses['coordinates'].map(lambda x: (ast.literal_eval(x)).values() )\n",
    "\n",
    "    #takes only the 'title' category names and puts them in a list \n",
    "businesses['categories'] = businesses['categories'].map(lambda x: tuple([list(d.values())[1] for d in x]) )\n",
    "\n",
    "    #converts price $ to ints. NaN = 0 \n",
    "businesses['price'] = businesses['price'].map(lambda x: sum([y == \"$\" for y in str(x)]))\n",
    "\n",
    "    #gets address and turns it into list \n",
    "businesses['location'] = businesses['location'].map(lambda x: (ast.literal_eval(x))['display_address'] )\n",
    "\n",
    "# businesses"
   ]
  },
  {
   "cell_type": "code",
   "execution_count": 166,
   "metadata": {
    "scrolled": true
   },
   "outputs": [],
   "source": [
    "    #CHECK if both yelp data and inspection data correspond to the same place and FILTER out bad matchs\n",
    "\n",
    "    #regx to get a word no punctuation\n",
    "re_word = re.compile(r'([a-z]+)')\n",
    "    #get the first word from the food inspection names \n",
    "first_word = businesses['FI Name'].map(lambda x: (re.search(re_word, x ).group())  )\n",
    "\n",
    "    #check if first word is contained in yelp name to determine if restaurant correctly matchs the food inspections restaurant\n",
    "    #filter businesses to only contain best match\n",
    "businesses['correct match'] = first_word.combine(businesses['alias'], lambda x1, x2: True if x1 in x2 else False)\n",
    "businesses = businesses[businesses['correct match'] == True]\n",
    "businesses = businesses.drop( columns = ['correct match', 'alias'])\n"
   ]
  },
  {
   "cell_type": "code",
   "execution_count": null,
   "metadata": {},
   "outputs": [],
   "source": []
  },
  {
   "cell_type": "code",
   "execution_count": 168,
   "metadata": {
    "collapsed": true
   },
   "outputs": [],
   "source": [
    "#CLEAN FAILED FOOD INSPECTION DATA SOME MORE\n",
    "\n",
    "    #read failed inspection data and drop uneeded columns\n",
    "failed_food_inspections = pd.read_csv('failed_food_inspections.csv').drop(columns = ['Results','Zip','AKA Name', 'Facility Type','Latitude', 'Longitude','Location','State', 'City'])\n",
    "\n",
    "    #finds violation numbers and puts them in a list \n",
    "failed_food_inspections['Violations'] = failed_food_inspections['Violations'].str.findall(r'\\w([1-9][0-9]?)\\.')\n",
    "\n",
    "    #turn risk value into a digit: 0 = N/A | 1 = low | 2 = medium | 3 = high\n",
    "failed_food_inspections['Risk'] = failed_food_inspections['Risk'].str.findall(r'\\d')\n",
    "\n",
    "def makeint(lst):\n",
    "    try:\n",
    "        return int(lst[0])\n",
    "    except:\n",
    "        return 0\n",
    "failed_food_inspections['Risk'] = failed_food_inspections['Risk'].map(lambda x: makeint(x) )\n",
    "\n",
    "    #drops rows that have no violation codes\n",
    "failed_food_inspections_violations = failed_food_inspections[failed_food_inspections['Violations'].notnull()]\n"
   ]
  },
  {
   "cell_type": "code",
   "execution_count": 169,
   "metadata": {
    "collapsed": true
   },
   "outputs": [],
   "source": [
    "# JOIN FOOD INSPECTION AND YELP BUSINESS DATAFRAMES\n",
    "\n",
    "merged = failed_food_inspections.merge(businesses, left_on = 'DBA Name', right_on = 'FI Name')\n",
    "merged = merged_orig.drop_duplicates('Inspection ID')"
   ]
  },
  {
   "cell_type": "code",
   "execution_count": 170,
   "metadata": {
    "collapsed": true
   },
   "outputs": [],
   "source": [
    "#___________________________DATA ANYLSIS___________________________"
   ]
  },
  {
   "cell_type": "code",
   "execution_count": 171,
   "metadata": {},
   "outputs": [
    {
     "name": "stdout",
     "output_type": "stream",
     "text": [
      "0.58% of Dunkin Donuts failing inspections\n",
      "0.85% of McDonalds failing inspections\n",
      "0.56% of Subways failing inspections\n"
     ]
    }
   ],
   "source": [
    "    #most wide spread restaurant chains in failed inspections \n",
    "merged_no_dup_lic = merged.drop_duplicates('License #')\n",
    "most_fails = merged_no_dup_lic['DBA Name'].value_counts()\n",
    "most_fails = most_fails.head(20)\n",
    "\n",
    "    #raw data of all inspections \n",
    "food_inspections = food_inspections_orig.drop_duplicates('License #')\n",
    "    #most wide spread restaurant chains in normal inspections \n",
    "num = food_inspections['DBA Name'].value_counts()\n",
    "\n",
    "subway_fails = most_fails['subway']/num['SUBWAY']\n",
    "DD_fails = most_fails['dunkin donuts']/num['DUNKIN DONUTS']\n",
    "mcd_fails = most_fails[\"mcdonald's\"]/num[\"MCDONALD'S\"]\n",
    "\n",
    "print(str(round(DD_fails, 2)) + '% of Dunkin Donuts failing inspections') \n",
    "print(str(round(mcd_fails,2)) + '% of McDonalds failing inspections') \n",
    "print(str(round(subway_fails,2)) + '% of Subways failing inspections') "
   ]
  },
  {
   "cell_type": "code",
   "execution_count": 130,
   "metadata": {},
   "outputs": [
    {
     "data": {
      "text/plain": [
       "<matplotlib.axes._subplots.AxesSubplot at 0x115dfce10>"
      ]
     },
     "execution_count": 130,
     "metadata": {},
     "output_type": "execute_result"
    },
    {
     "data": {
      "image/png": "[encoded data removed]",
      "text/plain": [
       "<matplotlib.figure.Figure at 0x1175caa90>"
      ]
     },
     "metadata": {},
     "output_type": "display_data"
    }
   ],
   "source": [
    "#FIND MOST COMMON CODE VIOLATIONS\n",
    "\n",
    "    # Violation Codes\n",
    "    # 1-14 : critical\n",
    "    # 15-29 :serious\n",
    "    # 30-44, 70 : minor\n",
    "    \n",
    "    #valid code numbers joined into list \n",
    "codes = list(range(1,45))+[70] \n",
    "lst = []\n",
    "for v in failed_food_inspections_violations['Violations']:\n",
    "    lst += v\n",
    "\n",
    "    #num of each violation\n",
    "inspection_codes = pd.Series(lst).value_counts()\n",
    "\n",
    "inspection_codes = inspection_codes.to_frame().reset_index()\n",
    "inspection_codes.columns = ['Code', 'Number of Violations']\n",
    "inspection_codes['Code'] = inspection_codes['Code'].map(lambda x: int(x))\n",
    "\n",
    "    #filters to only include relevent codes\n",
    "inspection_codes = inspection_codes[inspection_codes['Code'].isin(codes)] \n",
    "inspection_codes.set_index('Code', inplace = True)\n",
    "inspection_codes.sort_index(ascending = True, inplace = True)\n",
    "\n",
    "    #Plot Frequency of differnet codes\n",
    "%matplotlib inline\n",
    "plt.rcParams['figure.figsize'] = (10,8)\n",
    "inspection_codes.plot.bar()\n"
   ]
  },
  {
   "cell_type": "code",
   "execution_count": null,
   "metadata": {},
   "outputs": [],
   "source": []
  },
  {
   "cell_type": "code",
   "execution_count": 173,
   "metadata": {},
   "outputs": [
    {
     "data": {
      "text/plain": [
       "<matplotlib.text.Text at 0x1259806d8>"
      ]
     },
     "execution_count": 173,
     "metadata": {},
     "output_type": "execute_result"
    },
    {
     "data": {
      "image/png": "[encoded data removed]",
      "text/plain": [
       "<matplotlib.figure.Figure at 0x125918f98>"
      ]
     },
     "metadata": {},
     "output_type": "display_data"
    }
   ],
   "source": [
    "#AVERAGE RISK OF FAILURE FOR EACH RESTAURANT CATEGORY \n",
    "\n",
    "    #remove duplicate restaurants\n",
    "merged_no_dup = merged.drop_duplicates('id')\n",
    "merged_no_dup = merged_no_dup[merged_no_dup['Risk'] > 0]\n",
    "\n",
    "    #iterate through rows and then thru Category tuples. Have every category with its risk in 2 lists \n",
    "cats = []\n",
    "risk = []\n",
    "for index, row in merged_no_dup.iterrows():\n",
    "    rsk = row['Risk']\n",
    "    for val in row['categories']:\n",
    "        cats.append(val)\n",
    "        risk.append(int(rsk))\n",
    "\n",
    "    #create series with categories and coressponding risk. counts of categories\n",
    "num_cats = pd.Series(cats).value_counts()\n",
    "    #filter out any catagories that appear less then 15 times bc they are less relevent\n",
    "num_cats = num_cats[num_cats > 15]\n",
    "rel_cats = num_cats.index\n",
    "\n",
    "\n",
    "df = pd.Series(risk, index = cats).to_frame().reset_index()\n",
    "df.columns=['category', 'risk'] \n",
    "\n",
    "    #for RAW Graphs Circle Packing data vis \n",
    "df_filtered = df[df['category'].isin(rel_cats)]\n",
    "df_filtered.to_csv(\"./cat_risk_for_RAW_Vis.csv\", sep =',', index=False)\n",
    "\n",
    "    #for Avg risk per category \n",
    "avg_risk = df_filtered.groupby('category').mean()\n",
    "\n",
    "avg_risk = avg_risk.sort_values('risk', ascending = False)\n",
    "avg_risk_top15 = avg_risk.head(15)\n",
    "\n",
    "%matplotlib inline\n",
    "plt.rcParams['figure.figsize'] = (10,8)\n",
    "avg_risk_top15.plot.bar(ylim = (1,2)).legend([\"Avg risk (1 Low - 2 Medium)\"])\n",
    "plt.title('Average Risk of Health Violations(determined by Chi DPH)\\n for Top 15 Restaurant Categories')"
   ]
  },
  {
   "cell_type": "code",
   "execution_count": 174,
   "metadata": {},
   "outputs": [
    {
     "name": "stdout",
     "output_type": "stream",
     "text": [
      "2    1662\n",
      "1    1290\n",
      "3     188\n",
      "4      33\n",
      "Name: price, dtype: int64\n"
     ]
    },
    {
     "data": {
      "text/plain": [
       "<matplotlib.text.Text at 0x1259fc780>"
      ]
     },
     "execution_count": 174,
     "metadata": {},
     "output_type": "execute_result"
    },
    {
     "data": {
      "image/png": "[encoded data removed]",
      "text/plain": [
       "<matplotlib.figure.Figure at 0x12591e4a8>"
      ]
     },
     "metadata": {},
     "output_type": "display_data"
    }
   ],
   "source": [
    "#COST VS RISK LEVEL\n",
    "\n",
    "    #remove costs of 0\n",
    "price = merged_no_dup['price'][merged_no_dup['price'] > 0] \n",
    "print(price.value_counts(0))\n",
    "    #create dataframe with cost and risk. drop NaN values\n",
    "cost_risk = pd.concat([price, merged_no_dup['Risk']],axis = 1).reset_index(drop = True).dropna(axis = 0,how = 'any')\n",
    "    #get avg risk for each price\n",
    "    \n",
    "\n",
    "cost_risk = cost_risk.groupby('price').mean()\n",
    "cost_risk.index.names = [\"Yelp Cost in # of $ signs\"]\n",
    "\n",
    "%matplotlib inline\n",
    "plt.rcParams['figure.figsize'] = (10,8)\n",
    "cost_risk.plot.bar(ylim = (1,2)).legend([\"Avg risk (1 Low - 2 Medium)\"])\n",
    "plt.title('Average Risk of Health Violations(determined by Chi DPH)\\n by Restaurant Cost')\n",
    "\n"
   ]
  },
  {
   "cell_type": "code",
   "execution_count": 175,
   "metadata": {},
   "outputs": [
    {
     "name": "stdout",
     "output_type": "stream",
     "text": [
      "4.0    1123\n",
      "3.5     951\n",
      "4.5     476\n",
      "3.0     419\n",
      "2.5     190\n",
      "2.0      79\n",
      "5.0      61\n",
      "1.5      37\n",
      "1.0       4\n",
      "Name: rating, dtype: int64\n"
     ]
    },
    {
     "data": {
      "text/plain": [
       "<matplotlib.text.Text at 0x125d13198>"
      ]
     },
     "execution_count": 175,
     "metadata": {},
     "output_type": "execute_result"
    },
    {
     "data": {
      "image/png": "[encoded data removed]",
      "text/plain": [
       "<matplotlib.figure.Figure at 0x1259189e8>"
      ]
     },
     "metadata": {},
     "output_type": "display_data"
    }
   ],
   "source": [
    "#RATING VS RISK LEVEL\n",
    "rating_risk = pd.concat([merged_no_dup['rating'], merged_no_dup['Risk']],axis = 1).reset_index(drop = True).dropna(axis = 0,how = 'any')\n",
    "print(merged_no_dup['rating'].value_counts())\n",
    "rating_risk = rating_risk.groupby('rating').mean()\n",
    "rating_risk.index.names = [\"Yelp Rating\"] \n",
    "\n",
    "%matplotlib inline\n",
    "plt.rcParams['figure.figsize'] = (10,8)\n",
    "rating_risk.plot.bar(ylim = (1,2)).legend([\"Avg risk (1 Low - 2 Medium)\"])\n",
    "plt.title('Average Risk of Health Violations(determined by Chi DPH)\\n by Yelp Rating')\n"
   ]
  },
  {
   "cell_type": "code",
   "execution_count": null,
   "metadata": {
    "collapsed": true
   },
   "outputs": [],
   "source": []
  }
 ],
 "metadata": {
  "kernelspec": {
   "display_name": "Python 3",
   "language": "python",
   "name": "python3"
  },
  "language_info": {
   "codemirror_mode": {
    "name": "ipython",
    "version": 3
   },
   "file_extension": ".py",
   "mimetype": "text/x-python",
   "name": "python",
   "nbconvert_exporter": "python",
   "pygments_lexer": "ipython3",
   "version": "3.6.1"
  }
 },
 "nbformat": 4,
 "nbformat_minor": 2
}
