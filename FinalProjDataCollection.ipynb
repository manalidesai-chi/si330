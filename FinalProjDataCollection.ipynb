{
 "cells": [
  {
   "cell_type": "code",
   "execution_count": 1,
   "metadata": {
    "collapsed": true
   },
   "outputs": [],
   "source": [
    "\n",
    "# Load required libraries˜\n",
    "import pandas as pd\n",
    "import numpy as np\n",
    "\n",
    "import argparse\n",
    "import json\n",
    "import pprint\n",
    "import requests\n",
    "import sys\n",
    "import urllib\n",
    "\n",
    "from __future__ import print_function\n",
    "\n",
    "import csv\n",
    "import re\n",
    "import ast"
   ]
  },
  {
   "cell_type": "code",
   "execution_count": 2,
   "metadata": {
    "collapsed": true
   },
   "outputs": [],
   "source": [
    "#YELP API STARTER CODE  with edits to work with py3 and to suit my purposes\n",
    "\n",
    "API_KEY =''\n",
    "\n",
    "API_HOST = 'https://api.yelp.com'\n",
    "SEARCH_PATH = '/v3/businesses/search'\n",
    "BUSINESS_PATH = '/v3/businesses/'  # Business ID will come after slash.\n",
    "SEARCH_LIMIT = 3\n",
    "\n",
    "\n",
    "def request(host, path, api_key, url_params=None):\n",
    "    \"\"\"Given your API_KEY, send a GET request to the API.\n",
    "    Args:\n",
    "        host (str): The domain host of the API.\n",
    "        path (str): The path of the API after the domain.\n",
    "        API_KEY (str): Your API Key.\n",
    "        url_params (dict): An optional set of query parameters in the request.\n",
    "    Returns:\n",
    "        dict: The JSON response from the request.\n",
    "    Raises:\n",
    "        HTTPError: An error occurs from the HTTP request.\n",
    "    \"\"\"\n",
    "    url_params = url_params or {}\n",
    "#     url = '{0}{1}'.format(host, quote(path.encode('utf8'))) ***This seems uneccessary why? also doesnt work w py3\n",
    "    url = host + path\n",
    "    headers = {\n",
    "        'Authorization': 'Bearer %s' % api_key,\n",
    "    }\n",
    "\n",
    "#     print(u'Querying {0} ...'.format(url))\n",
    "    response = requests.request('GET', url, headers=headers, params=url_params)\n",
    "    return response.json()\n",
    "\n",
    "def searchaddress(api_key, term, location):\n",
    "    \"\"\"Query the Search API by a search term and location.\n",
    "    Args:\n",
    "        term (str): The search term passed to t/\n",
    "        he API.\n",
    "        location (str): The search location passed to the API.\n",
    "    Returns:\n",
    "        dict: The JSON response from the request.\n",
    "    \"\"\"\n",
    "\n",
    "    url_params = {\n",
    "        'term': term.replace(' ', '+'),\n",
    "        'location': location.replace(' ', '+'),\n",
    "        'limit': 1\n",
    "    }\n",
    "    return request(API_HOST, SEARCH_PATH, api_key, url_params=url_params)\n",
    "\n",
    "\n",
    "def main():\n",
    "    parser = argparse.ArgumentParser()\n",
    "\n",
    "    parser.add_argument('-q', '--term', dest='term', default=DEFAULT_TERM,\n",
    "                        type=str, help='Search term (default: %(default)s)')\n",
    "    parser.add_argument('-l', '--location', dest='location',\n",
    "                        default=DEFAULT_LOCATION, type=str,\n",
    "                        help='Search location (default: %(default)s)')\n",
    "\n",
    "    input_values = parser.parse_args()\n",
    "\n",
    "    try:\n",
    "        query_api(input_values.term, input_values.location)\n",
    "    except HTTPError as error:\n",
    "        sys.exit(\n",
    "            'Encountered HTTP error {0} on {1}:\\n {2}\\nAbort program.'.format(\n",
    "                error.code,\n",
    "                error.url,\n",
    "                error.read(),\n",
    "            )\n",
    "        )\n",
    "        \n",
    "        "
   ]
  },
  {
   "cell_type": "code",
   "execution_count": null,
   "metadata": {
    "collapsed": true
   },
   "outputs": [],
   "source": []
  },
  {
   "cell_type": "code",
   "execution_count": 3,
   "metadata": {
    "collapsed": true
   },
   "outputs": [],
   "source": [
    "#READ RAW INSPECTION DATA \n",
    "food_inspections_orig = pd.read_csv('food_inspections.csv') \n",
    "\n",
    "#CLEAN INSPECTION RESULTS\n",
    "\n",
    "    #normalize data to lower case\n",
    "food_inspect_lower = food_inspections_orig.apply(lambda x: x.astype(str).str.lower()) \n",
    "\n",
    "    #filter to inlcude only certain business types\n",
    "facility_type = 'restaurant'\n",
    "food_inspect_filtered = food_inspect_lower[ food_inspect_lower['Facility Type'] == facility_type]\n",
    "\n",
    "    #strip whitespace and reset index\n",
    "food_inspect_filtered = food_inspect_filtered.apply(lambda x: x.astype(str).str.strip()) "
   ]
  },
  {
   "cell_type": "code",
   "execution_count": 4,
   "metadata": {
    "collapsed": true
   },
   "outputs": [],
   "source": [
    "    #get only restaurants that failed inspections and reset the index\n",
    "failed_food_inspect_filtered = (food_inspect_filtered[(food_inspect_filtered['Results'] == 'fail')]).reset_index(drop=True) \n",
    "\n",
    "    #sends failed inspection data to csv file\n",
    "failed_food_inspect_filtered.to_csv(\"./failed_food_inspections.csv\", sep =',', index=False)"
   ]
  },
  {
   "cell_type": "code",
   "execution_count": 5,
   "metadata": {
    "collapsed": true
   },
   "outputs": [],
   "source": [
    "    #create list to add yelp queries to \n",
    "bizlist =[]"
   ]
  },
  {
   "cell_type": "code",
   "execution_count": 6,
   "metadata": {},
   "outputs": [
    {
     "data": {
      "text/plain": [
       "20706"
      ]
     },
     "execution_count": 6,
     "metadata": {},
     "output_type": "execute_result"
    }
   ],
   "source": [
    "(len(failed_food_inspect_filtered)+1)"
   ]
  },
  {
   "cell_type": "code",
   "execution_count": 9,
   "metadata": {
    "collapsed": true
   },
   "outputs": [],
   "source": [
    "#0-4700 FailBizFile1\n",
    "#4800-9500 FailBizFile2\n",
    "#9500-14400 FailBizFile3\n",
    "#14400-19200 FailBizFile4\n",
    "#19200-20706 len(failed_food_inspect_filtered)+1) FailBizFile4\n",
    "    \n",
    "    #find and query yelp business data for restaurants that failed inspections\n",
    "    #Uses restaurant name(DBA name) and address to find best match\n",
    "    #queries between 2 indexes bc can only do 5000 a day\n",
    "intx = 0\n",
    "inty = 0\n",
    "    \n",
    "for i in range(intx, inty ) :\n",
    "    address = failed_food_inspect_filtered['Address'][i] + ' Chicago, IL'\n",
    "    name = failed_food_inspect_filtered['DBA Name'][i]\n",
    "    biz = searchaddress(API_KEY, name, address)\n",
    "    biz = biz.get('businesses', None)\n",
    "    try:\n",
    "        biz = biz[0]\n",
    "        biz['FI Name'] = name\n",
    "        bizlist.append(biz)\n",
    "    except:\n",
    "        print('Bye Felcia.') #if no result is found skips that restaurant"
   ]
  },
  {
   "cell_type": "code",
   "execution_count": 7,
   "metadata": {},
   "outputs": [
    {
     "data": {
      "text/plain": [
       "0"
      ]
     },
     "execution_count": 7,
     "metadata": {},
     "output_type": "execute_result"
    }
   ],
   "source": [
    "len(bizlist)"
   ]
  },
  {
   "cell_type": "code",
   "execution_count": 8,
   "metadata": {
    "collapsed": true,
    "scrolled": true
   },
   "outputs": [],
   "source": [
    "    #Send data to csv \n",
    "failedbizdf = pd.DataFrame(bizlist)\n",
    "failedbizdf.to_csv(\"./failedBizTest.csv\", sep =',', index=False)\n"
   ]
  }
 ],
 "metadata": {
  "kernelspec": {
   "display_name": "Python 3",
   "language": "python",
   "name": "python3"
  },
  "language_info": {
   "codemirror_mode": {
    "name": "ipython",
    "version": 3
   },
   "file_extension": ".py",
   "mimetype": "text/x-python",
   "name": "python",
   "nbconvert_exporter": "python",
   "pygments_lexer": "ipython3",
   "version": "3.6.1"
  }
 },
 "nbformat": 4,
 "nbformat_minor": 2
}
